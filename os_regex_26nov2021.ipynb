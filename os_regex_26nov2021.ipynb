{
 "cells": [
  {
   "cell_type": "markdown",
   "metadata": {},
   "source": [
    "# PLAN \n",
    "1. Neki detalji iz zadataka od 12nov2021\n",
    "2. Zajedno rješavamo par zadataka \n",
    "3. Import, module, package, library\n",
    "---------\n",
    "4. Python OS module\n",
    "5. Python REGEX module \n",
    "6. Zadaci ()\n",
    "---------\n",
    "7. Python environments \n",
    "8. PROJECT IDEA \n",
    "9. Installing Beautiful Soup - za web scraping\n",
    "10. Using OS and REGEX + BS - želimo uzeti hrpu podataka i strpati ih u neki file\n",
    "---------\n",
    "11. 03dec2021 - exploramo naše prikupljene podatke pomoću Pandasa"
   ]
  },
  {
   "cell_type": "markdown",
   "metadata": {},
   "source": [
    "# STRINGS "
   ]
  },
  {
   "cell_type": "markdown",
   "metadata": {},
   "source": [
    "- https://www.w3schools.com/python/python_ref_string.asp \n",
    "- zadatak 13"
   ]
  },
  {
   "cell_type": "markdown",
   "metadata": {},
   "source": [
    "13. Spremite sljedeći niz znakova u varijablu: \"Testiramo što sve možemo napraviti sa stringovima\". Iz niza znakova u prethodnom zadatku dohvatite i ispišite: \n",
    "a) cijeli niz\n",
    "b) riječ \"string\", \n",
    "c) koji je to tip podatka,\n",
    "d) koje je početno slovo te riječi koristeći indekse\n",
    "e) koje je posljednje slovo te riječi koristeći metode za stringove\n",
    "f) koliko znakova ta riječ ima "
   ]
  },
  {
   "cell_type": "code",
   "execution_count": 7,
   "metadata": {},
   "outputs": [
    {
     "name": "stdout",
     "output_type": "stream",
     "text": [
      "0\n",
      "Test\n",
      "a\n"
     ]
    }
   ],
   "source": [
    "str = \"Testiramo što sve možemo napraviti sa stringovima\"\n",
    "rijec = \"Test\"\n",
    "gdje_je = str.find(rijec)\n",
    "\n",
    "if gdje_je != -1:\n",
    "    print(gdje_je)\n",
    "    print(str[gdje_je:gdje_je+len(rijec)])\n",
    "\n",
    "\n",
    "import string\n",
    "for x in string.ascii_letters:\n",
    "    if str.endswith(x):\n",
    "        print(x)\n"
   ]
  },
  {
   "cell_type": "markdown",
   "metadata": {},
   "source": [
    "# LISTS\n",
    "- FOR vs FOR EACH\n",
    "- Nested list comprehension\n",
    "    - kreirajte matricu: \n",
    "        ```\n",
    "          matrix = \n",
    "          [[0, 1, 2, 3, 4],\n",
    "          [0, 1, 2, 3, 4],\n",
    "          [0, 1, 2, 3, 4],\n",
    "          [0, 1, 2, 3, 4],\n",
    "          [0, 1, 2, 3, 4]]\n",
    "        \n",
    "          \n",
    "    - https://www.geeksforgeeks.org/nested-list-comprehensions-in-python/\n",
    "\n",
    "    - napravite flat listu od: \n",
    "        ```\n",
    "        matrix = [[1, 2, 3], [4, 5], [6, 7, 8, 9]]\n",
    "    \n",
    "- Operacije s listama \n",
    "\n",
    "- Iterator vs generator \n",
    "    - https://stackoverflow.com/questions/2776829/difference-between-pythons-generators-and-iterators \n",
    "    "
   ]
  },
  {
   "cell_type": "code",
   "execution_count": 19,
   "metadata": {},
   "outputs": [
    {
     "name": "stdout",
     "output_type": "stream",
     "text": [
      "[[0, 1, 2, 3, 4], [0, 1, 2, 3, 4], [0, 1, 2, 3, 4], [0, 1, 2, 3, 4], [0, 1, 2, 3, 4]]\n",
      "[[0, 1, 2, 3, 4], [0, 1, 2, 3, 4], [0, 1, 2, 3, 4], [0, 1, 2, 3, 4], [0, 1, 2, 3, 4]]\n",
      "[1, 2, 3, 4, 5, 6, 7, 8, 9]\n",
      "[1, 2, 3, 4, 5, 6, 7, 8, 9]\n"
     ]
    }
   ],
   "source": [
    "# l =  [4,3,2,1]\n",
    "# # for i in l:\n",
    "# #     print(i)\n",
    "\n",
    "\n",
    "# for i in range(len(l)):\n",
    "#     print(i)\n",
    "#     for el in l:\n",
    "#         print(i)\n",
    "\n",
    "matrix = []\n",
    "for i in range(5):\n",
    "    l = []\n",
    "    for j in range(5):\n",
    "        l.append(j)\n",
    "    matrix.append(l)\n",
    "print(matrix)\n",
    "\n",
    "\n",
    "matrix = [[j for j in range(5)] for i in range(5)]\n",
    "print(matrix)\n",
    "\n",
    "\n",
    "matrix = [[1, 2, 3], [4, 5], [6, 7, 8, 9]]\n",
    "\n",
    "flat_list = []\n",
    "for element in matrix:\n",
    "    for item in element:\n",
    "        flat_list.append(item)\n",
    "print(flat_list)\n",
    "\n",
    "flat_list = [item for element in matrix for item in element]\n",
    "# item for sublist in t for item in sublist\n",
    "print(flat_list)"
   ]
  },
  {
   "cell_type": "code",
   "execution_count": 28,
   "metadata": {},
   "outputs": [
    {
     "name": "stdout",
     "output_type": "stream",
     "text": [
      "[1, 1, 1]\n",
      "[[1], [1, 1], [1, 1, 1], [1, 1, 1, 1]]\n"
     ]
    }
   ],
   "source": [
    "# l = [1,2,3,4]\n",
    "# print(l * 5)\n",
    "\n",
    "# 23. Napiši funkciju koja će za neki input broj vratiti nested listu s dužinama sub-lista koje se povećavaju za 1.\n",
    "# \tRezultat bi trebao izgledati ovako: \n",
    "# \t\tpyramid(0) => [ ]\n",
    "# \t\tpyramid(1) => [ [1] ]\n",
    "# \t\tpyramid(2) => [ [1], [1, 1] ]\n",
    "# \t\tpyramid(3) => [ [1], [1, 1], [1, 1, 1] ]\n",
    "# \t\tpyramid(4) => ...\n",
    "\n",
    "\n",
    "print([1] * 3)\n",
    "\n",
    "def pyramid(x):\n",
    "    l = []\n",
    "    for i in range(1,x+1):\n",
    "        l.append([1] * i)\n",
    "    print(l)\n",
    "pyramid(4)"
   ]
  },
  {
   "cell_type": "markdown",
   "metadata": {},
   "source": [
    "- **zip**\n",
    "    - Python’s zip() function is defined as zip(*iterables). The function takes in iterables as arguments and returns an iterator. This iterator generates a series of tuples containing elements from each iterable. zip() can accept any type of iterable, such as files, lists, tuples, dictionaries, sets, and so on.\n",
    "    - elementi u tim iterablesima MORAJU biti iste dužine\n",
    "\n",
    "    - https://github.com/deksa89/git-project-lipik/blob/master/zadatci_12oct2021/16_zad.py \n",
    "\n",
    "- ostale korisne metode:\n",
    "    - enumerate\n",
    "    - count\n",
    "    - index "
   ]
  },
  {
   "cell_type": "markdown",
   "metadata": {},
   "source": [
    "# FUNCTIONS \n",
    "- Parametar vs argument\n",
    "- Args i kwargs\n",
    "- Return keyword\n",
    "- Tuple\n",
    "- Local scope vs global scope\n",
    "\n"
   ]
  },
  {
   "cell_type": "code",
   "execution_count": 38,
   "metadata": {},
   "outputs": [
    {
     "name": "stdout",
     "output_type": "stream",
     "text": [
      "ab\n"
     ]
    },
    {
     "ename": "TypeError",
     "evalue": "isinstance() arg 2 must be a type or tuple of types",
     "output_type": "error",
     "traceback": [
      "\u001b[0;31m---------------------------------------------------------------------------\u001b[0m",
      "\u001b[0;31mTypeError\u001b[0m                                 Traceback (most recent call last)",
      "\u001b[0;32m<ipython-input-38-4b318f654e96>\u001b[0m in \u001b[0;36m<module>\u001b[0;34m\u001b[0m\n\u001b[1;32m     12\u001b[0m \u001b[0;34m\u001b[0m\u001b[0m\n\u001b[1;32m     13\u001b[0m \u001b[0mx\u001b[0m \u001b[0;34m=\u001b[0m \u001b[0misinstance\u001b[0m\u001b[0;34m(\u001b[0m\u001b[0;36m5\u001b[0m\u001b[0;34m,\u001b[0m \u001b[0mint\u001b[0m\u001b[0;34m)\u001b[0m\u001b[0;34m\u001b[0m\u001b[0;34m\u001b[0m\u001b[0m\n\u001b[0;32m---> 14\u001b[0;31m \u001b[0mx\u001b[0m \u001b[0;34m=\u001b[0m \u001b[0misinstance\u001b[0m\u001b[0;34m(\u001b[0m\u001b[0;36m5\u001b[0m\u001b[0;34m,\u001b[0m \u001b[0mstr\u001b[0m\u001b[0;34m)\u001b[0m\u001b[0;34m\u001b[0m\u001b[0;34m\u001b[0m\u001b[0m\n\u001b[0m",
      "\u001b[0;31mTypeError\u001b[0m: isinstance() arg 2 must be a type or tuple of types"
     ]
    }
   ],
   "source": [
    "### eksplicitno definirani parametri\n",
    "def my_sum(a: int, b: int):\n",
    "    \"\"\"\n",
    "    test\n",
    "    \"\"\"\n",
    "    # metoda .isinstance()\n",
    "    return a + b\n",
    "\n",
    "# print(my_sum(1,2))\n",
    "print(my_sum(\"a\",\"b\"))\n",
    "# print(my_sum([1,2], [3,4]))\n",
    "\n",
    "x = isinstance(5, int)\n",
    "x = isinstance(5, str)"
   ]
  },
  {
   "cell_type": "code",
   "execution_count": 39,
   "metadata": {},
   "outputs": [
    {
     "name": "stdout",
     "output_type": "stream",
     "text": [
      "10\n"
     ]
    }
   ],
   "source": [
    "### iterable kao parametar:\n",
    "def my_sum():\n",
    "    rez = 0\n",
    "    for x in brojevi:\n",
    "        rez += x \n",
    "    return rez\n",
    "\n",
    "print(my_sum())"
   ]
  },
  {
   "cell_type": "code",
   "execution_count": 41,
   "metadata": {},
   "outputs": [
    {
     "name": "stdout",
     "output_type": "stream",
     "text": [
      "[1, 2, 4]\n",
      "None\n"
     ]
    }
   ],
   "source": [
    "### \n",
    "\n",
    "def my_sum(*args):\n",
    "    for i in args:\n",
    "        print(i)\n",
    "\n",
    "print(my_sum([1,2,4]))"
   ]
  },
  {
   "cell_type": "code",
   "execution_count": 43,
   "metadata": {},
   "outputs": [
    {
     "name": "stdout",
     "output_type": "stream",
     "text": [
      "('AI Centar Lipik ', dict_keys(['a', 'b', 'c']))\n"
     ]
    }
   ],
   "source": [
    "### KWARGS\n",
    "def concatenate(**kwargs):\n",
    "    ''' \n",
    "    prima bilo koji key-value,\n",
    "    vraća \n",
    "    '''\n",
    "    result = \"\"\n",
    "    # Iterating over the Python kwargs dictionary\n",
    "    for arg in kwargs.values():\n",
    "        result += arg + \" \"\n",
    "    return result, kwargs.keys()\n",
    "\n",
    "print(concatenate(a=\"AI\", b=\"Centar\", c=\"Lipik\"))"
   ]
  },
  {
   "cell_type": "code",
   "execution_count": 45,
   "metadata": {},
   "outputs": [
    {
     "name": "stdout",
     "output_type": "stream",
     "text": [
      "dict_keys(['a', 'b', 'c'])\n"
     ]
    }
   ],
   "source": [
    "_,keys = concatenate(a=\"AI\", b=\"Centar\", c=\"Lipik\")\n",
    "print(keys)"
   ]
  },
  {
   "cell_type": "markdown",
   "metadata": {},
   "source": [
    "### REDOSLIJED ARGUMENATA U FUNKCIJI: \n",
    "1. Standard arguments\n",
    "2. *args arguments\n",
    "3. **kwargs arguments"
   ]
  },
  {
   "cell_type": "markdown",
   "metadata": {},
   "source": [
    "-----------------\n",
    "### RETURN \n",
    "The Python return keyword exits a function and instructs Python to continue executing the main program. The return keyword can send a value back to the main program. A value could be a string, a tuple, or any other object."
   ]
  },
  {
   "cell_type": "code",
   "execution_count": null,
   "metadata": {},
   "outputs": [],
   "source": []
  },
  {
   "cell_type": "markdown",
   "metadata": {},
   "source": [
    "### LOCAL vs GLOBAL SCOPE\n",
    "Global scope: The names that you define in this scope are available to all your code.\n",
    "\n",
    "Local scope: The names that you define in this scope are only available or visible to the code within the scope.\n",
    "\n",
    "https://realpython.com/python-scope-legb-rule/ \n",
    "\n"
   ]
  },
  {
   "cell_type": "code",
   "execution_count": 47,
   "metadata": {},
   "outputs": [
    {
     "name": "stdout",
     "output_type": "stream",
     "text": [
      "16\n",
      "4\n",
      "9\n",
      "16\n"
     ]
    }
   ],
   "source": [
    "a = 16 \n",
    "\n",
    "def my_sum(a,b):\n",
    "    a = 4\n",
    "    print(a)\n",
    "    return a+b\n",
    "\n",
    "print(a)\n",
    "print(my_sum(a,5))\n",
    "print(a)"
   ]
  },
  {
   "cell_type": "markdown",
   "metadata": {},
   "source": [
    "# IMPORT \n",
    "- python keyword\n",
    "\n",
    "# MODULES \n",
    "- built-in vs obične skripte koje sami napravimo\n",
    "\n",
    "# PACKAGES \n",
    "- skup modula\n",
    "- sadrži __init__.py file\n",
    "    - https://stackoverflow.com/a/448279\n",
    "- https://docs.python.org/3/reference/import.html#regular-packages\n",
    "\n",
    "# LIBRARIES \n",
    "- eksterni python \"paketi\" koje instaliramo (u environment)"
   ]
  },
  {
   "cell_type": "code",
   "execution_count": 51,
   "metadata": {},
   "outputs": [],
   "source": [
    "import math, random #, blabla\n",
    "import os\n",
    "from os import path\n",
    "from random import randint as rd\n",
    "#################\n",
    "import pandas as pd\n",
    "import numpy as np \n",
    "import tensorflow as tf\n",
    "\n",
    "# a = random.randint(5,10)\n",
    "# b = randint(5,10)\n",
    "b = rd(5,10)"
   ]
  },
  {
   "cell_type": "markdown",
   "metadata": {},
   "source": [
    "# OS"
   ]
  },
  {
   "cell_type": "code",
   "execution_count": 52,
   "metadata": {},
   "outputs": [],
   "source": [
    "import os"
   ]
  },
  {
   "cell_type": "code",
   "execution_count": 57,
   "metadata": {},
   "outputs": [
    {
     "name": "stdout",
     "output_type": "stream",
     "text": [
      "['CLD_CONTINUED', 'CLD_DUMPED', 'CLD_EXITED', 'CLD_TRAPPED', 'DirEntry', 'EX_CANTCREAT', 'EX_CONFIG', 'EX_DATAERR', 'EX_IOERR', 'EX_NOHOST', 'EX_NOINPUT', 'EX_NOPERM', 'EX_NOUSER', 'EX_OK', 'EX_OSERR', 'EX_OSFILE', 'EX_PROTOCOL', 'EX_SOFTWARE', 'EX_TEMPFAIL', 'EX_UNAVAILABLE', 'EX_USAGE', 'F_LOCK', 'F_OK', 'F_TEST', 'F_TLOCK', 'F_ULOCK', 'GRND_NONBLOCK', 'GRND_RANDOM', 'MutableMapping', 'NGROUPS_MAX', 'O_ACCMODE', 'O_APPEND', 'O_ASYNC', 'O_CLOEXEC', 'O_CREAT', 'O_DIRECT', 'O_DIRECTORY', 'O_DSYNC', 'O_EXCL', 'O_LARGEFILE', 'O_NDELAY', 'O_NOATIME', 'O_NOCTTY', 'O_NOFOLLOW', 'O_NONBLOCK', 'O_PATH', 'O_RDONLY', 'O_RDWR', 'O_RSYNC', 'O_SYNC', 'O_TMPFILE', 'O_TRUNC', 'O_WRONLY', 'POSIX_FADV_DONTNEED', 'POSIX_FADV_NOREUSE', 'POSIX_FADV_NORMAL', 'POSIX_FADV_RANDOM', 'POSIX_FADV_SEQUENTIAL', 'POSIX_FADV_WILLNEED', 'PRIO_PGRP', 'PRIO_PROCESS', 'PRIO_USER', 'P_ALL', 'P_NOWAIT', 'P_NOWAITO', 'P_PGID', 'P_PID', 'P_WAIT', 'PathLike', 'RTLD_DEEPBIND', 'RTLD_GLOBAL', 'RTLD_LAZY', 'RTLD_LOCAL', 'RTLD_NODELETE', 'RTLD_NOLOAD', 'RTLD_NOW', 'R_OK', 'SCHED_BATCH', 'SCHED_FIFO', 'SCHED_IDLE', 'SCHED_OTHER', 'SCHED_RESET_ON_FORK', 'SCHED_RR', 'SEEK_CUR', 'SEEK_DATA', 'SEEK_END', 'SEEK_HOLE', 'SEEK_SET', 'ST_APPEND', 'ST_MANDLOCK', 'ST_NOATIME', 'ST_NODEV', 'ST_NODIRATIME', 'ST_NOEXEC', 'ST_NOSUID', 'ST_RDONLY', 'ST_RELATIME', 'ST_SYNCHRONOUS', 'ST_WRITE', 'TMP_MAX', 'WCONTINUED', 'WCOREDUMP', 'WEXITED', 'WEXITSTATUS', 'WIFCONTINUED', 'WIFEXITED', 'WIFSIGNALED', 'WIFSTOPPED', 'WNOHANG', 'WNOWAIT', 'WSTOPPED', 'WSTOPSIG', 'WTERMSIG', 'WUNTRACED', 'W_OK', 'XATTR_CREATE', 'XATTR_REPLACE', 'XATTR_SIZE_MAX', 'X_OK', '_Environ', '__all__', '__builtins__', '__cached__', '__doc__', '__file__', '__loader__', '__name__', '__package__', '__spec__', '_check_methods', '_execvpe', '_exists', '_exit', '_fspath', '_fwalk', '_get_exports_list', '_putenv', '_spawnvef', '_unsetenv', '_wrap_close', 'abc', 'abort', 'access', 'altsep', 'chdir', 'chmod', 'chown', 'chroot', 'close', 'closerange', 'confstr', 'confstr_names', 'cpu_count', 'ctermid', 'curdir', 'defpath', 'device_encoding', 'devnull', 'dup', 'dup2', 'environ', 'environb', 'error', 'execl', 'execle', 'execlp', 'execlpe', 'execv', 'execve', 'execvp', 'execvpe', 'extsep', 'fchdir', 'fchmod', 'fchown', 'fdatasync', 'fdopen', 'fork', 'forkpty', 'fpathconf', 'fsdecode', 'fsencode', 'fspath', 'fstat', 'fstatvfs', 'fsync', 'ftruncate', 'fwalk', 'get_blocking', 'get_exec_path', 'get_inheritable', 'get_terminal_size', 'getcwd', 'getcwdb', 'getegid', 'getenv', 'getenvb', 'geteuid', 'getgid', 'getgrouplist', 'getgroups', 'getloadavg', 'getlogin', 'getpgid', 'getpgrp', 'getpid', 'getppid', 'getpriority', 'getrandom', 'getresgid', 'getresuid', 'getsid', 'getuid', 'getxattr', 'initgroups', 'isatty', 'kill', 'killpg', 'lchown', 'linesep', 'link', 'listdir', 'listxattr', 'lockf', 'lseek', 'lstat', 'major', 'makedev', 'makedirs', 'minor', 'mkdir', 'mkfifo', 'mknod', 'name', 'nice', 'open', 'openpty', 'pardir', 'path', 'pathconf', 'pathconf_names', 'pathsep', 'pipe', 'pipe2', 'popen', 'posix_fadvise', 'posix_fallocate', 'pread', 'preadv', 'putenv', 'pwrite', 'pwritev', 'read', 'readlink', 'readv', 'register_at_fork', 'remove', 'removedirs', 'removexattr', 'rename', 'renames', 'replace', 'rmdir', 'scandir', 'sched_get_priority_max', 'sched_get_priority_min', 'sched_getaffinity', 'sched_getparam', 'sched_getscheduler', 'sched_param', 'sched_rr_get_interval', 'sched_setaffinity', 'sched_setparam', 'sched_setscheduler', 'sched_yield', 'sendfile', 'sep', 'set_blocking', 'set_inheritable', 'setegid', 'seteuid', 'setgid', 'setgroups', 'setpgid', 'setpgrp', 'setpriority', 'setregid', 'setresgid', 'setresuid', 'setreuid', 'setsid', 'setuid', 'setxattr', 'spawnl', 'spawnle', 'spawnlp', 'spawnlpe', 'spawnv', 'spawnve', 'spawnvp', 'spawnvpe', 'st', 'stat', 'stat_result', 'statvfs', 'statvfs_result', 'strerror', 'supports_bytes_environ', 'supports_dir_fd', 'supports_effective_ids', 'supports_fd', 'supports_follow_symlinks', 'symlink', 'sync', 'sys', 'sysconf', 'sysconf_names', 'system', 'tcgetpgrp', 'tcsetpgrp', 'terminal_size', 'times', 'times_result', 'truncate', 'ttyname', 'umask', 'uname', 'uname_result', 'unlink', 'unsetenv', 'urandom', 'utime', 'wait', 'wait3', 'wait4', 'waitid', 'waitid_result', 'waitpid', 'walk', 'write', 'writev']\n"
     ]
    }
   ],
   "source": [
    "print(dir(os))"
   ]
  },
  {
   "cell_type": "code",
   "execution_count": 58,
   "metadata": {},
   "outputs": [
    {
     "name": "stdout",
     "output_type": "stream",
     "text": [
      "/home/dkarl/Projects/git-test\n"
     ]
    }
   ],
   "source": [
    "print(os.getcwd())"
   ]
  },
  {
   "cell_type": "code",
   "execution_count": 59,
   "metadata": {},
   "outputs": [
    {
     "ename": "NameError",
     "evalue": "name '__file__' is not defined",
     "output_type": "error",
     "traceback": [
      "\u001b[0;31m---------------------------------------------------------------------------\u001b[0m",
      "\u001b[0;31mNameError\u001b[0m                                 Traceback (most recent call last)",
      "\u001b[0;32m<ipython-input-59-27eb1c832021>\u001b[0m in \u001b[0;36m<module>\u001b[0;34m\u001b[0m\n\u001b[1;32m      1\u001b[0m \u001b[0;31m### neće raditi s jupyter kernelom\u001b[0m\u001b[0;34m\u001b[0m\u001b[0;34m\u001b[0m\u001b[0;34m\u001b[0m\u001b[0m\n\u001b[0;32m----> 2\u001b[0;31m \u001b[0mos\u001b[0m\u001b[0;34m.\u001b[0m\u001b[0mpath\u001b[0m\u001b[0;34m.\u001b[0m\u001b[0mdirname\u001b[0m\u001b[0;34m(\u001b[0m\u001b[0mos\u001b[0m\u001b[0;34m.\u001b[0m\u001b[0mpath\u001b[0m\u001b[0;34m.\u001b[0m\u001b[0mabspath\u001b[0m\u001b[0;34m(\u001b[0m\u001b[0m__file__\u001b[0m\u001b[0;34m)\u001b[0m\u001b[0;34m)\u001b[0m\u001b[0;34m\u001b[0m\u001b[0;34m\u001b[0m\u001b[0m\n\u001b[0m",
      "\u001b[0;31mNameError\u001b[0m: name '__file__' is not defined"
     ]
    }
   ],
   "source": [
    "### neće raditi s jupyter kernelom\n",
    "os.path.dirname(os.path.abspath(__file__))"
   ]
  },
  {
   "cell_type": "code",
   "execution_count": 61,
   "metadata": {},
   "outputs": [
    {
     "ename": "NameError",
     "evalue": "name 'directory' is not defined",
     "output_type": "error",
     "traceback": [
      "\u001b[0;31m---------------------------------------------------------------------------\u001b[0m",
      "\u001b[0;31mNameError\u001b[0m                                 Traceback (most recent call last)",
      "\u001b[0;32m<ipython-input-61-698896d965d0>\u001b[0m in \u001b[0;36m<module>\u001b[0;34m\u001b[0m\n\u001b[0;32m----> 1\u001b[0;31m \u001b[0mos\u001b[0m\u001b[0;34m.\u001b[0m\u001b[0mchdir\u001b[0m\u001b[0;34m(\u001b[0m\u001b[0mos\u001b[0m\u001b[0;34m.\u001b[0m\u001b[0mpath\u001b[0m\u001b[0;34m.\u001b[0m\u001b[0mjoin\u001b[0m\u001b[0;34m(\u001b[0m\u001b[0mos\u001b[0m\u001b[0;34m.\u001b[0m\u001b[0mgetcwd\u001b[0m\u001b[0;34m(\u001b[0m\u001b[0;34m)\u001b[0m\u001b[0;34m,\u001b[0m\u001b[0mdirectory\u001b[0m\u001b[0;34m)\u001b[0m\u001b[0;34m)\u001b[0m\u001b[0;34m\u001b[0m\u001b[0;34m\u001b[0m\u001b[0m\n\u001b[0m\u001b[1;32m      2\u001b[0m \u001b[0mos\u001b[0m\u001b[0;34m.\u001b[0m\u001b[0mmkdir\u001b[0m\u001b[0;34m(\u001b[0m\u001b[0mfoldername\u001b[0m\u001b[0;34m)\u001b[0m\u001b[0;34m\u001b[0m\u001b[0;34m\u001b[0m\u001b[0m\n\u001b[1;32m      3\u001b[0m \u001b[0mos\u001b[0m\u001b[0;34m.\u001b[0m\u001b[0mmakedirs\u001b[0m\u001b[0;34m(\u001b[0m\u001b[0mfolder\u001b[0m\u001b[0;34m/\u001b[0m\u001b[0mfolder2\u001b[0m\u001b[0;34m/\u001b[0m\u001b[0mfoldername\u001b[0m\u001b[0;34m)\u001b[0m\u001b[0;34m\u001b[0m\u001b[0;34m\u001b[0m\u001b[0m\n",
      "\u001b[0;31mNameError\u001b[0m: name 'directory' is not defined"
     ]
    }
   ],
   "source": [
    "os.chdir(os.path.join(os.getcwd(),directory))\n",
    "os.mkdir(foldername)\n",
    "os.makedirs(folder/folder2/foldername)"
   ]
  },
  {
   "cell_type": "code",
   "execution_count": null,
   "metadata": {},
   "outputs": [],
   "source": [
    "os.rmdir()\n",
    "os.removedirs()"
   ]
  },
  {
   "cell_type": "code",
   "execution_count": 5,
   "metadata": {},
   "outputs": [
    {
     "data": {
      "text/plain": [
       "['novi.py',\n",
       " 'horoskop',\n",
       " '.ipynb_checkpoints',\n",
       " '.git',\n",
       " 'def_rez.txt',\n",
       " 'extracted_data',\n",
       " 'zadaci_12oct2021',\n",
       " 'test.txt',\n",
       " 'top_rjesenja.py',\n",
       " 'notebook.ipynb',\n",
       " 'rjesenja.py']"
      ]
     },
     "execution_count": 5,
     "metadata": {},
     "output_type": "execute_result"
    }
   ],
   "source": [
    "os.listdir()"
   ]
  },
  {
   "cell_type": "code",
   "execution_count": 9,
   "metadata": {},
   "outputs": [
    {
     "name": "stdout",
     "output_type": "stream",
     "text": [
      "/home/dkarl/Projects/git-test\n",
      "['horoskop', '.ipynb_checkpoints', '.git', 'extracted_data']\n",
      "['novi.py', 'def_rez.txt', 'zadaci_12oct2021', 'test.txt', 'top_rjesenja.py', 'notebook.ipynb', 'rjesenja.py']\n",
      "/home/dkarl/Projects/git-test/horoskop\n",
      "['out']\n",
      "['se', 'kvatro', 'otto', 'tre', 'nove', 'djeći', 'ćinkve', 'due', 'uno', 'sete']\n",
      "/home/dkarl/Projects/git-test/horoskop/out\n",
      "[]\n",
      "['email', 'names', 'rest', 'nums']\n",
      "/home/dkarl/Projects/git-test/.ipynb_checkpoints\n",
      "[]\n",
      "[]\n",
      "/home/dkarl/Projects/git-test/.git\n",
      "['hooks', 'refs', 'objects', 'info', 'branches', 'logs']\n",
      "['COMMIT_EDITMSG', 'config', 'HEAD', 'index', 'description']\n",
      "/home/dkarl/Projects/git-test/.git/hooks\n",
      "[]\n",
      "['pre-push.sample', 'post-update.sample', 'prepare-commit-msg.sample', 'commit-msg.sample', 'pre-rebase.sample', 'applypatch-msg.sample', 'pre-merge-commit.sample', 'update.sample', 'pre-receive.sample', 'fsmonitor-watchman.sample', 'pre-commit.sample', 'pre-applypatch.sample']\n",
      "/home/dkarl/Projects/git-test/.git/refs\n",
      "['heads', 'tags']\n",
      "[]\n",
      "/home/dkarl/Projects/git-test/.git/refs/heads\n",
      "[]\n",
      "['master']\n",
      "/home/dkarl/Projects/git-test/.git/refs/tags\n",
      "[]\n",
      "[]\n",
      "/home/dkarl/Projects/git-test/.git/objects\n",
      "['03', '0e', 'f0', 'eb', 'ad', 'pack', 'info', '8b', 'd2']\n",
      "[]\n",
      "/home/dkarl/Projects/git-test/.git/objects/03\n",
      "[]\n",
      "['2dd5821d16d3767ee571aa5fb7813e3ce96d03']\n",
      "/home/dkarl/Projects/git-test/.git/objects/0e\n",
      "[]\n",
      "['3588e82cbc985ed0380ac77854628e3c99c368']\n",
      "/home/dkarl/Projects/git-test/.git/objects/f0\n",
      "[]\n",
      "['c60ff2725379c094b44bda25d786d846d74cd6']\n",
      "/home/dkarl/Projects/git-test/.git/objects/eb\n",
      "[]\n",
      "['80a2d059667bacc306ff136d71416efe6d0cca']\n",
      "/home/dkarl/Projects/git-test/.git/objects/ad\n",
      "[]\n",
      "['35e5ae34d7df6d469bfe65dbfcefe988e0169f', '86c5ed024e7c952d786e192a546f490d650dd8']\n",
      "/home/dkarl/Projects/git-test/.git/objects/pack\n",
      "[]\n",
      "[]\n",
      "/home/dkarl/Projects/git-test/.git/objects/info\n",
      "[]\n",
      "[]\n",
      "/home/dkarl/Projects/git-test/.git/objects/8b\n",
      "[]\n",
      "['2aa3ce995b24bdda0f69f51c81acfd820a1b9f']\n",
      "/home/dkarl/Projects/git-test/.git/objects/d2\n",
      "[]\n",
      "['1c8afd031c98dc6c8a95b9a4881a34933776f4']\n",
      "/home/dkarl/Projects/git-test/.git/info\n",
      "[]\n",
      "['exclude']\n",
      "/home/dkarl/Projects/git-test/.git/branches\n",
      "[]\n",
      "[]\n",
      "/home/dkarl/Projects/git-test/.git/logs\n",
      "['refs']\n",
      "['HEAD']\n",
      "/home/dkarl/Projects/git-test/.git/logs/refs\n",
      "['heads']\n",
      "[]\n",
      "/home/dkarl/Projects/git-test/.git/logs/refs/heads\n",
      "[]\n",
      "['master']\n",
      "/home/dkarl/Projects/git-test/extracted_data\n",
      "[]\n",
      "['phoneNums.txt', 'zodiacs.txt', 'ages.txt', 'Tinder.txt', 'emails.txt', 'names.txt', 'descriptions.txt']\n"
     ]
    }
   ],
   "source": [
    "for dirpath, dirnames, filenames in os.walk(os.getcwd()):\n",
    "    print(dirpath)\n",
    "    print(dirnames)\n",
    "    print(filenames)"
   ]
  },
  {
   "cell_type": "code",
   "execution_count": null,
   "metadata": {},
   "outputs": [],
   "source": [
    "os.path.join()\n",
    "os.path.split()\n",
    "\n",
    "os.path.exists()\n",
    "\n",
    "print(dir(os.path))"
   ]
  },
  {
   "cell_type": "markdown",
   "metadata": {},
   "source": [
    "# REGEXI "
   ]
  },
  {
   "cell_type": "code",
   "execution_count": 62,
   "metadata": {},
   "outputs": [
    {
     "name": "stdout",
     "output_type": "stream",
     "text": [
      "['A', 'ASCII', 'DEBUG', 'DOTALL', 'I', 'IGNORECASE', 'L', 'LOCALE', 'M', 'MULTILINE', 'Match', 'Pattern', 'RegexFlag', 'S', 'Scanner', 'T', 'TEMPLATE', 'U', 'UNICODE', 'VERBOSE', 'X', '_MAXCACHE', '__all__', '__builtins__', '__cached__', '__doc__', '__file__', '__loader__', '__name__', '__package__', '__spec__', '__version__', '_cache', '_compile', '_compile_repl', '_expand', '_locale', '_pickle', '_special_chars_map', '_subx', 'compile', 'copyreg', 'enum', 'error', 'escape', 'findall', 'finditer', 'fullmatch', 'functools', 'match', 'purge', 'search', 'split', 'sre_compile', 'sre_parse', 'sub', 'subn', 'template']\n"
     ]
    }
   ],
   "source": [
    "import re\n",
    "\n",
    "print(dir(re))\n"
   ]
  },
  {
   "cell_type": "code",
   "execution_count": 108,
   "metadata": {},
   "outputs": [],
   "source": [
    "text = '''\n",
    "    asdfhjlkjhkjhkjhkjhfasdfa\n",
    "    ASDFKJSLAKDFJALSKDFJALSKDFJ\n",
    "    1435468545\n",
    "\n",
    "    JKhkjKJHKJhjk\n",
    "    lkj LKFSDJALKlkj KJLKJsaf sadf 6544\n",
    "\n",
    "\n",
    "    Meta characteri: . ^ $ * + ? { } [ ] \\ | ( )\n",
    "\n",
    "\n",
    "    dariokarl.sl@gmailasdfasdfasdfasdfasdf.com\n",
    "    dariokarl.sl@gmailasdfasdfasd-fasdfasdf.com\n",
    "\n",
    "    034-561-0564\n",
    "    034/556 1231\n",
    "    +385911234567\n",
    "\n",
    "    www.aicentarlipik.com \n",
    "    www.meta.com\n",
    "\n",
    "    Pero Perić \n",
    "\n",
    "    gđa. Ruslan\n",
    "\n",
    "    Kljukica Kvakić  kvakvakva\n",
    "    g. Hrvoje Hrvač \n",
    "\n",
    "'''"
   ]
  },
  {
   "cell_type": "code",
   "execution_count": 69,
   "metadata": {},
   "outputs": [
    {
     "name": "stdout",
     "output_type": "stream",
     "text": [
      "\\nLipik\n"
     ]
    }
   ],
   "source": [
    "### raw strings \n",
    "# r''\n",
    "print(r'\\nLipik')"
   ]
  },
  {
   "cell_type": "code",
   "execution_count": 138,
   "metadata": {},
   "outputs": [
    {
     "name": "stdout",
     "output_type": "stream",
     "text": [
      "re.compile('asd')\n"
     ]
    }
   ],
   "source": [
    "# compile\n",
    "pattern = re.compile(r\"asd\")\n",
    "print(pattern)"
   ]
  },
  {
   "cell_type": "code",
   "execution_count": 139,
   "metadata": {},
   "outputs": [
    {
     "name": "stdout",
     "output_type": "stream",
     "text": [
      "['asd', 'asd', 'asd', 'asd', 'asd', 'asd', 'asd', 'asd', 'asd', 'asd', 'asd', 'asd']\n",
      "<class 'callable_iterator'>\n",
      "<re.Match object; span=(5, 8), match='asd'>\n",
      "<re.Match object; span=(25, 28), match='asd'>\n",
      "<re.Match object; span=(212, 215), match='asd'>\n",
      "<re.Match object; span=(216, 219), match='asd'>\n",
      "<re.Match object; span=(220, 223), match='asd'>\n",
      "<re.Match object; span=(224, 227), match='asd'>\n",
      "<re.Match object; span=(228, 231), match='asd'>\n",
      "<re.Match object; span=(259, 262), match='asd'>\n",
      "<re.Match object; span=(263, 266), match='asd'>\n",
      "<re.Match object; span=(267, 270), match='asd'>\n",
      "<re.Match object; span=(272, 275), match='asd'>\n",
      "<re.Match object; span=(276, 279), match='asd'>\n"
     ]
    }
   ],
   "source": [
    "# match, search, finditer, findall\n",
    "\n",
    "# search vs match https://www.geeksforgeeks.org/python-re-search-vs-re-match/#:~:text=match()%20searches%20only%20from,return%20match%20object%20if%20found.&text=While%20re.search()%20searches,all%20the%20lines%20of%20string.\n",
    "m = pattern.findall(text)\n",
    "print(m)\n",
    "\n",
    "matches = pattern.finditer(text)\n",
    "print(type(matches))\n",
    "for match in matches:\n",
    "    print(match)"
   ]
  },
  {
   "cell_type": "markdown",
   "metadata": {},
   "source": [
    "### meta-characters "
   ]
  },
  {
   "cell_type": "code",
   "execution_count": 78,
   "metadata": {},
   "outputs": [
    {
     "name": "stdout",
     "output_type": "stream",
     "text": [
      "<re.Match object; span=(275, 296), match='www.aicentarlipik.com'>\n"
     ]
    }
   ],
   "source": [
    "### MATCHAJ URL\n",
    "pattern = re.compile(r'www\\..+\\.com')\n",
    "m = pattern.finditer(text)\n",
    "for n in m:\n",
    "    print(n)\n",
    "# www.nešto.ekstenzija"
   ]
  },
  {
   "cell_type": "code",
   "execution_count": 101,
   "metadata": {},
   "outputs": [
    {
     "name": "stdout",
     "output_type": "stream",
     "text": [
      "['    dariokarl.sl@gmailasdfasdfasdfasdfasdf.com', '    dariokarl.sl@gmailasdfasdfasd-fasdfasdf.com']\n"
     ]
    }
   ],
   "source": [
    "### MATCHAJ EMAIL\n",
    "email = re.compile(r\".+@.+\\.\\w+\")\n",
    "print(email.findall(text))\n",
    "# dariokarl.sl@gmail.com"
   ]
  },
  {
   "cell_type": "code",
   "execution_count": 94,
   "metadata": {},
   "outputs": [
    {
     "name": "stdout",
     "output_type": "stream",
     "text": [
      "['1435468545', '034-561-0564', '034/556 1231', '+385911234567']\n"
     ]
    }
   ],
   "source": [
    "### matchaj bilo koji broj\n",
    "brojevi = re.compile(r'\\+{0,1}\\d{3}[/-]{0,1}\\d{3}[-\\s]{0,1}\\d+')\n",
    "print(brojevi.findall(text))"
   ]
  },
  {
   "cell_type": "code",
   "execution_count": 145,
   "metadata": {},
   "outputs": [
    {
     "name": "stdout",
     "output_type": "stream",
     "text": [
      "['', '', '', '', '', '', '', 'gđa.', '', '', 'g.', '']\n"
     ]
    }
   ],
   "source": [
    "ljudi = re.compile(r'(g.*\\.)?\\s+[A-ZČĆ]')\n",
    "# [a-zčć]+\\s[A-ZČĆ][a-zčć]+\n",
    "print(ljudi.findall(text))"
   ]
  },
  {
   "cell_type": "code",
   "execution_count": null,
   "metadata": {},
   "outputs": [],
   "source": []
  },
  {
   "cell_type": "code",
   "execution_count": null,
   "metadata": {},
   "outputs": [],
   "source": []
  },
  {
   "cell_type": "code",
   "execution_count": null,
   "metadata": {},
   "outputs": [],
   "source": [
    "### re.IGNORECASE"
   ]
  }
 ],
 "metadata": {
  "interpreter": {
   "hash": "a4ca393d04a0a36f03478ab20ae3094aa45180b02d2856ecc66ff38076988152"
  },
  "kernelspec": {
   "display_name": "Python 3.7.10 64-bit ('nlp-prep-env': conda)",
   "language": "python",
   "name": "python3"
  },
  "language_info": {
   "codemirror_mode": {
    "name": "ipython",
    "version": 3
   },
   "file_extension": ".py",
   "mimetype": "text/x-python",
   "name": "python",
   "nbconvert_exporter": "python",
   "pygments_lexer": "ipython3",
   "version": "3.7.10"
  },
  "orig_nbformat": 4
 },
 "nbformat": 4,
 "nbformat_minor": 2
}
