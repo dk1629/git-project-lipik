{
 "cells": [
  {
   "cell_type": "markdown",
   "metadata": {},
   "source": [
    "# This is an overview of environment handling\n",
    "- Feel free to customize your workflow, \n",
    "- but try to keep up with the best practices \n",
    "\n",
    "### This notebook mostly covers environments managed by 'Conda'\n",
    "- Other options would be:\n",
    "    - venv, \n",
    "    - virtualenv, \n",
    "    - pipenv (+pyenv)\n",
    "\n",
    "### Useful links and docs:\n",
    "1. [https://docs.conda.io/projects/conda/en/latest/user-guide/tasks/manage-environments.html](https://docs.conda.io/projects/conda/en/latest/user-guide/tasks/manage-environments.html)\n",
    "2. [https://www.anaconda.com/blog/understanding-conda-and-pip#:~:text=Conda%20packages%20are%20binaries.&text=Pip%20installs%20Python%20packages%20whereas,downloading%20and%20running%20an%20installer.](https://www.anaconda.com/blog/understanding-conda-and-pip#:~:text=Conda%20packages%20are%20binaries.&text=Pip%20installs%20Python%20packages%20whereas,downloading%20and%20running%20an%20installer.)\n",
    "3. [https://realpython.com/what-is-pip/](https://realpython.com/what-is-pip/)\n",
    "\n",
    "\n",
    "### Rules to go by:\n",
    "1. Each project MUST have its own isolated environment\n",
    "2. **ALWAYS** include a spec-file.txt / requirements.txt file with a list of requirements for a given project\n",
    "    - helps the documentation\n",
    "    - project handling \n",
    "    - Git versioning\n",
    "3. Rules One and Two :) \n",
    "\n",
    "\n",
    "-----------------------------------------------------------\n",
    "\n",
    "### Intro\n",
    "- **Environment** (we use conda, venv, virtualenv, pipenv etc to create it) is NOT the SAME thing as commands like: \n",
    "    - \"pip install <package-name>\" \n",
    "    - or \n",
    "    - \"conda install <package-name>\"\n",
    "        - -- > those are **package managers**\n",
    "\t\t    - [PIP](https://realpython.com/what-is-pip/) \n",
    "\t\t    - [CONDA](https://www.anaconda.com/blog/understanding-conda-and-pip#:~:text=Conda%20packages%20are%20binaries.&text=Pip%20installs%20Python%20packages%20whereas,downloading%20and%20running%20an%20installer.)\n",
    "\t    - -- > we use them to install packages WITHIN our previously created environments\n",
    "\n",
    "- **IDE's** (PyCharm, VS Code, Emacs, Notepad++, SublimeText, JupyterLab, JupyterNotebooks, Spyder, .....) \n",
    "    - are just text editors we use to write python scripts. \n",
    "    - They usually have an integrated terminal where our Environments can be activated and package managers used to install packages/libraries. \n",
    "    - Once we run any Python script within our preferred IDE, it uses the terminal we opened, the environment we ‘activated’ and runs the code. \n",
    "    - IT DOESN’T MATTER WHICH 'IDE' YOU USE (They are all \"lopata koja kopa istu rupu\") :) \n",
    "\n"
   ]
  },
  {
   "cell_type": "markdown",
   "metadata": {},
   "source": [
    "#### CONDA\n",
    "- Commands:\n",
    "    - conda create --name <insert any name you like, but dont use spaces :) >\n",
    "    - conda install <package-name> (always google the syntax for each package you need because several package versions use different installation channels)\n",
    "    - conda activate <environment-name>\n",
    "    - conda deactivate\n",
    "    - conda env export > environment.yml (creates a file with a list of requirements/dependencies that can be shared - the file is created in the directory where you ran this command)\n",
    "- conda environments are not dependent on the project structure\n",
    "    - they can be activated anywhere\n",
    "    - it only matters for a python file you are runnning where are you in your command line/terminal (eg. C:\\Users\\me\\Projects\\web-scraping\\)\n",
    "- Within conda environment (once it is activated), you can install packages using **pip**\n",
    "    - [https://conda.io/projects/conda/en/latest/user-guide/tasks/manage-environments.html](https://conda.io/projects/conda/en/latest/user-guide/tasks/manage-environments.html)\n",
    "    - this was previously avoided, but should be okay now\n",
    "    - to avoid issues, install as many packages using **conda** and only then run pip install <package name>\n",
    "    - **Potential issues**\n",
    "        - If you have a non-conda pip as your default pip but conda python is your default python (as below)\n",
    "\n",
    "            ```\n",
    "                >which -a pip\n",
    "                /home/<user>/.local/bin/pip   \n",
    "                /home/<user>/.conda/envs/newenv/bin/pip\n",
    "                /usr/bin/pip\n",
    "                >which -a python\n",
    "                /home/<user>/.conda/envs/newenv/bin/python\n",
    "                /usr/bin/python\n",
    "            ```\n",
    "                \n",
    "        - Then instead of just calling pip install <package>, you can use the module flag -m with python so that it uses the anaconda python for the installation\n",
    "            - python -m pip install <package>\n",
    "            - This installs the package to the anaconda library directory rather than to the library directory associated with (the non-anaconda) pip\n",
    "- All the possible installation channels within anaconda:\n",
    "    - conda install <package-name>\n",
    "    - conda install -c anaconda <package-name>\n",
    "    - conda-forge\n",
    "        - conda config --add channels conda-forge\n",
    "        - conda install -c conda-forge <package-name>\n",
    "    - pip install <package-name>\n"
   ]
  },
  {
   "cell_type": "code",
   "execution_count": 1,
   "metadata": {},
   "outputs": [],
   "source": []
  }
 ],
 "metadata": {
  "interpreter": {
   "hash": "3a77e775c87fb89362942d277fb75334cb3bd442f266b1f86534018203e3e2a0"
  },
  "kernelspec": {
   "display_name": "Python 3.9.7 64-bit ('Lipik-ka_zJLUe': virtualenv)",
   "language": "python",
   "name": "python3"
  },
  "language_info": {
   "codemirror_mode": {
    "name": "ipython",
    "version": 3
   },
   "file_extension": ".py",
   "mimetype": "text/x-python",
   "name": "python",
   "nbconvert_exporter": "python",
   "pygments_lexer": "ipython3",
   "version": "3.8.5"
  },
  "orig_nbformat": 4
 },
 "nbformat": 4,
 "nbformat_minor": 2
}
