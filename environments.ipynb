{
 "cells": [
  {
   "cell_type": "markdown",
   "metadata": {},
   "source": [
    "# This is an overview of environment handling\n",
    "- Feel free to customize your workflow, \n",
    "- but try to keep up with the best practices \n",
    "\n",
    "### This notebook mostly covers environments managed by 'Conda'\n",
    "- Other options would be:\n",
    "    - venv, \n",
    "    - virtualenv, \n",
    "    - pipenv (+pyenv)\n",
    "\n",
    "### Useful links and docs:\n",
    "1. [https://docs.conda.io/projects/conda/en/latest/user-guide/tasks/manage-environments.html](https://docs.conda.io/projects/conda/en/latest/user-guide/tasks/manage-environments.html)\n",
    "2. [https://www.anaconda.com/blog/understanding-conda-and-pip#:~:text=Conda%20packages%20are%20binaries.&text=Pip%20installs%20Python%20packages%20whereas,downloading%20and%20running%20an%20installer.](https://www.anaconda.com/blog/understanding-conda-and-pip#:~:text=Conda%20packages%20are%20binaries.&text=Pip%20installs%20Python%20packages%20whereas,downloading%20and%20running%20an%20installer.)\n",
    "3. [https://realpython.com/what-is-pip/](https://realpython.com/what-is-pip/)\n",
    "\n",
    "\n",
    "### Rules to go by:\n",
    "1. Each project MUST have its own isolated environment\n",
    "2. ALWAYS include a spec-file with a list of requirements for a given project\n",
    "    - helps the documentation\n",
    "    - project handling \n",
    "    - Git versioning\n",
    "3. Rules One and Two :) \n",
    "\n",
    "\n",
    "-----------------------------------------------------------\n",
    "\n",
    "### Intro\n",
    "- **Environment** (we use conda, venv, virtualenv, pipenv etc to create it) is NOT the SAME thing as commands like: \n",
    "    - \"pip install <package-name>\" \n",
    "    - or \n",
    "    - \"conda install <package-name>\"\n",
    "        - -- > those are **package managers**\n",
    "\t\t    - [PIP](https://realpython.com/what-is-pip/) \n",
    "\t\t    - [CONDA](https://www.anaconda.com/blog/understanding-conda-and-pip#:~:text=Conda%20packages%20are%20binaries.&text=Pip%20installs%20Python%20packages%20whereas,downloading%20and%20running%20an%20installer.)\n",
    "\t    - -- > we use them to install packages WITHIN our previously created environments\n"
   ]
  },
  {
   "cell_type": "markdown",
   "metadata": {},
   "source": []
  },
  {
   "cell_type": "code",
   "execution_count": 1,
   "metadata": {},
   "outputs": [],
   "source": []
  }
 ],
 "metadata": {
  "interpreter": {
   "hash": "3a77e775c87fb89362942d277fb75334cb3bd442f266b1f86534018203e3e2a0"
  },
  "kernelspec": {
   "display_name": "Python 3.9.7 64-bit ('Lipik-ka_zJLUe': virtualenv)",
   "language": "python",
   "name": "python3"
  },
  "language_info": {
   "codemirror_mode": {
    "name": "ipython",
    "version": 3
   },
   "file_extension": ".py",
   "mimetype": "text/x-python",
   "name": "python",
   "nbconvert_exporter": "python",
   "pygments_lexer": "ipython3",
   "version": "3.8.5"
  },
  "orig_nbformat": 4
 },
 "nbformat": 4,
 "nbformat_minor": 2
}
