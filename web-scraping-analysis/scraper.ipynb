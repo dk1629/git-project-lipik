{
 "cells": [
  {
   "cell_type": "code",
   "execution_count": 1,
   "metadata": {},
   "outputs": [],
   "source": [
    "import requests\n",
    "from bs4 import BeautifulSoup\n",
    "import os"
   ]
  },
  {
   "cell_type": "code",
   "execution_count": 4,
   "metadata": {},
   "outputs": [],
   "source": [
    "url = 'https://www.inskysolutions.com/'\n",
    "response = requests.get(url)"
   ]
  },
  {
   "cell_type": "code",
   "execution_count": 7,
   "metadata": {},
   "outputs": [
    {
     "name": "stdout",
     "output_type": "stream",
     "text": [
      "b'\\r\\n\\r\\n<!doctype html>\\r\\n<html id=\"htmlPageRoot\" lang=\"hr\">\\r\\n<head><script type=\"text/javascript\" src=\"h'\n"
     ]
    }
   ],
   "source": [
    "# if response.status_code == 200:\n",
    "if response.ok:\n",
    "    html = response.content\n",
    "    print(html[:100])\n",
    "    soup = BeautifulSoup(html, 'html.parser')\n"
   ]
  },
  {
   "cell_type": "markdown",
   "metadata": {},
   "source": [
    "### CILJ\n",
    "- dobiti što više tekstova \n",
    "    - zanimaju nas svi opisni tekstovi (o pojedinim produktima, o tvrtki, o integracijama, rješenjima itd...)\n",
    "\n",
    "### KAKO \n",
    "- S dev toolsima inspectamo glavnu stranicu i tražimo najbolji način za doći do tekstova\n",
    "    - tražimo linkove za druge pageve gdje ima više teksta\n",
    "    - pogledajte da već nakon prvih par divova unutar <form name> možemo doći do nav bara koji ima id='navigation'!!"
   ]
  },
  {
   "cell_type": "code",
   "execution_count": 9,
   "metadata": {},
   "outputs": [
    {
     "name": "stdout",
     "output_type": "stream",
     "text": [
      "<class 'bs4.element.ResultSet'>\n",
      "1\n"
     ]
    }
   ],
   "source": [
    "navigation = soup.find_all('nav', id='navigation')\n",
    "print(type(navigation))\n",
    "print(len(navigation))"
   ]
  },
  {
   "cell_type": "markdown",
   "metadata": {},
   "source": []
  }
 ],
 "metadata": {
  "interpreter": {
   "hash": "59f3795f81c12f59836a85374165337db15fbfd2df129378202aa0348298c8ca"
  },
  "kernelspec": {
   "display_name": "Python 3.8.5 64-bit ('web-scraping-env': conda)",
   "language": "python",
   "name": "python3"
  },
  "language_info": {
   "codemirror_mode": {
    "name": "ipython",
    "version": 3
   },
   "file_extension": ".py",
   "mimetype": "text/x-python",
   "name": "python",
   "nbconvert_exporter": "python",
   "pygments_lexer": "ipython3",
   "version": "3.8.5"
  },
  "orig_nbformat": 4
 },
 "nbformat": 4,
 "nbformat_minor": 2
}
