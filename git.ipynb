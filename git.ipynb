{
 "cells": [
  {
   "cell_type": "markdown",
   "metadata": {},
   "source": [
    "# Kratak podsjetnik za rad s gitom za sve koji su zaboravili i/li nisu bili 12.11."
   ]
  },
  {
   "cell_type": "markdown",
   "metadata": {},
   "source": [
    "### Naredbe\n",
    "1. git init \n",
    "    - služi za \"inicijaliziranje\" repositoryja\n",
    "    - naredbu upisujete unutar foldera koji predstavlja naziv nekog vašeg projekta \n",
    "        - npr. unutar foldera \"computer_vision\" imate cv_intro.py, environment.yml fileove i images folder\n",
    "        - kad upišete git init unutar computer_vision, inicijalizirali ste git repository koji obuhvaća sve unutar tog computer_vision foldera\n",
    "2. git add \n",
    "    - traži dodatno ili naziv filea ili točku (.) - time specificirate koje fileove \"addate\"\n",
    "    - tom naredbom govorite gitu da krene pratiti te fileove\n",
    "    - \"staging area\"\n",
    "3. git commit -m \"message\"\n",
    "    - pišite dobre poruke koje zbilja nešto znače (opišite sami sebi koje ste to promjene sada napravili)\n",
    "    - nakon toga git vraća određeni commit id\n",
    "        - na taj commit id se uvijek možete vratiti\n",
    "        - git log\n",
    "        - git revert\n",
    "        - [git reset](https://www.freecodecamp.org/news/save-the-day-with-git-reset/)\n",
    "4. git pull\n",
    "    - time dobivate sve nove stvari koje su trenutno na \"remote\" serveru\n",
    "5. git push\n",
    "    - \"pushate\" sve što je lokalno na neki \"remote\" (github, gitlab, bitbucket, tfs...) "
   ]
  },
  {
   "cell_type": "markdown",
   "metadata": {},
   "source": [
    "### Local repository\n",
    "- nalazi se lokalno :) \n",
    "- kod koji imate unutar nekog foldera kod sebe na računalu\n",
    "- može imati hrpu različitih verzija (verzija == commit)"
   ]
  },
  {
   "cell_type": "markdown",
   "metadata": {},
   "source": [
    "### Za sve koji imaju problem s username-password autentifikacijom kroz terminal:\n",
    "1. https://github.blog/2020-12-15-token-authentication-requirements-for-git-operations/ \n",
    "2. https://docs.github.com/en/authentication/keeping-your-account-and-data-secure/creating-a-personal-access-token \n",
    "    - doslovno umjesto passworda upisujete upravo kreirani 'personal-access-token' (koji su usput i spremite jer će ga trebati upisivati za svaki projekt kad PRVI put pushate kod na remote) ..."
   ]
  },
  {
   "cell_type": "markdown",
   "metadata": {},
   "source": []
  }
 ],
 "metadata": {
  "language_info": {
   "name": "python"
  },
  "orig_nbformat": 4
 },
 "nbformat": 4,
 "nbformat_minor": 2
}
