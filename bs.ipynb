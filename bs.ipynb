{
 "cells": [
  {
   "cell_type": "code",
   "execution_count": null,
   "metadata": {},
   "outputs": [],
   "source": [
    "import requests\n",
    "from bs4 import BeautifulSoup"
   ]
  },
  {
   "cell_type": "code",
   "execution_count": null,
   "metadata": {},
   "outputs": [],
   "source": [
    "### definiramo koji url pretražujemo\n",
    "url = 'https://hr.wikipedia.org/wiki/Umjetna_inteligencija'\n",
    "response = requests.get(url)\n",
    "# https://realpython.com/python-requests/\n",
    "# https://www.networkinghowtos.com/howto/common-user-agent-list/ \n"
   ]
  },
  {
   "cell_type": "code",
   "execution_count": null,
   "metadata": {},
   "outputs": [],
   "source": [
    "response"
   ]
  },
  {
   "cell_type": "code",
   "execution_count": null,
   "metadata": {},
   "outputs": [],
   "source": [
    "html = response.content"
   ]
  },
  {
   "cell_type": "code",
   "execution_count": null,
   "metadata": {},
   "outputs": [],
   "source": [
    "# page.content vs. page.text\n",
    "# The .content attribute holds raw bytes, which can be decoded better than the .text attribute."
   ]
  },
  {
   "cell_type": "code",
   "execution_count": null,
   "metadata": {},
   "outputs": [],
   "source": [
    "html[:100]"
   ]
  },
  {
   "cell_type": "markdown",
   "metadata": {},
   "source": [
    "----------------------------------\n",
    "\n",
    "Ovdje instanciramo BS objekt i dajemo mu **html**\n",
    "- U pozadini BS-a postoje 3 različita html parsera:\n",
    "    1. html5lib (parses HTML the way a web browser does)\n",
    "    2. lxml (used for both html and xml parsing) - omogućuje scraping po XPath-u\n",
    "    3. html.parser (included in Python's standard library)\n",
    "\n",
    "- https://beautiful-soup-4.readthedocs.io/en/latest/index.html?highlight=html%20parser#installing-a-parser"
   ]
  },
  {
   "cell_type": "code",
   "execution_count": null,
   "metadata": {},
   "outputs": [],
   "source": [
    "soup = BeautifulSoup(html, 'html.parser')"
   ]
  },
  {
   "cell_type": "code",
   "execution_count": null,
   "metadata": {},
   "outputs": [],
   "source": [
    "### METODE\n",
    "# prettify - will enable us to view how the tags are nested in the document.\n",
    "# find() - returns the FIRST TAG matching the search\n",
    "# findall() - returns a LIST of ALL TAGS \n"
   ]
  },
  {
   "cell_type": "code",
   "execution_count": null,
   "metadata": {},
   "outputs": [],
   "source": [
    "### HTML elementi \n",
    "# https://stackabuse.com/guide-to-parsing-html-with-beautifulsoup-in-python/\n",
    "\n",
    "### elementi: head, body, div, p, a, span ... \n",
    "# postoje unutarnji i vanjski tagovi: soup.body.a.text (body je vanjski tag, a je unutarnji tag - nalazi se unutar body strukture, \n",
    "                                                        # a text je BS atribut koji pozivamo na njega da nam da text od toga taga)"
   ]
  },
  {
   "cell_type": "code",
   "execution_count": null,
   "metadata": {},
   "outputs": [],
   "source": [
    "### parent i child elementi\n",
    "\n",
    "p.parent\n",
    "\n",
    "li = soup.find('li', {'class': 'text'})\n",
    "children = li.findChildren(\"a\" , recursive=False)\n",
    "for child in children:\n",
    "    print(child)"
   ]
  },
  {
   "cell_type": "markdown",
   "metadata": {},
   "source": [
    "### Searching by attributes\n",
    "- using the id's of specific tags\n",
    "\n",
    "    - the attributes name can be user-defined\n",
    "    - but we can explore the common ones\n",
    "\n",
    "- Passing attributes as function parameters\n",
    "    - using the 'class' object of html tags"
   ]
  },
  {
   "cell_type": "code",
   "execution_count": null,
   "metadata": {},
   "outputs": [],
   "source": [
    "# \n",
    "soup.find('div', id='neki common id')\n",
    "soup.find('div', id='neki custom id')\n",
    "\n",
    "soup.find_all('a', class_ = 'mw-jump-link')\n",
    "\n",
    "### id-evi bi trebali biti unique uvijek - vezani za jedan element samo\n",
    "### class je nešto što se pojavljuje uz više elemenata"
   ]
  },
  {
   "cell_type": "code",
   "execution_count": null,
   "metadata": {},
   "outputs": [],
   "source": [
    "# atribute možemo dati i kao dictionary:\n",
    "soup.find('a', attrs={'class':'mw-jump-link', 'href':'#mw-head'})"
   ]
  },
  {
   "cell_type": "code",
   "execution_count": null,
   "metadata": {},
   "outputs": [],
   "source": [
    "### ATTRS metoda\n",
    "a.attrs"
   ]
  },
  {
   "cell_type": "code",
   "execution_count": null,
   "metadata": {},
   "outputs": [],
   "source": [
    "### kako pronaći sve klase na stranici\n",
    "# https://www.geeksforgeeks.org/python-beautifulsoup-find-all-class/\n",
    "\n"
   ]
  },
  {
   "cell_type": "code",
   "execution_count": null,
   "metadata": {},
   "outputs": [],
   "source": [
    "### Kako izvući text iz nekoga taga\n",
    "\n",
    "a.text\n",
    "a.string"
   ]
  },
  {
   "cell_type": "code",
   "execution_count": null,
   "metadata": {},
   "outputs": [],
   "source": [
    "# .strings vs stripped_strings\n",
    "# https://beautiful-soup-4.readthedocs.io/en/latest/index.html?highlight=stripped#strings-and-stripped-strings"
   ]
  },
  {
   "cell_type": "code",
   "execution_count": null,
   "metadata": {},
   "outputs": [],
   "source": [
    "# .text možemo pozvati i na cijeli soup objekt :)\n",
    "\n",
    "print(soup.text)"
   ]
  }
 ],
 "metadata": {
  "interpreter": {
   "hash": "a4ca393d04a0a36f03478ab20ae3094aa45180b02d2856ecc66ff38076988152"
  },
  "kernelspec": {
   "display_name": "Python 3.7.10 64-bit ('nlp-prep-env': conda)",
   "language": "python",
   "name": "python3"
  },
  "language_info": {
   "codemirror_mode": {
    "name": "ipython",
    "version": 3
   },
   "file_extension": ".py",
   "mimetype": "text/x-python",
   "name": "python",
   "nbconvert_exporter": "python",
   "pygments_lexer": "ipython3",
   "version": "3.7.10"
  },
  "orig_nbformat": 4
 },
 "nbformat": 4,
 "nbformat_minor": 2
}
